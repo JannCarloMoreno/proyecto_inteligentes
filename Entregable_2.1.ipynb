{
 "cells": [
  {
   "cell_type": "markdown",
   "id": "Kfq17UOx_p58",
   "metadata": {
    "id": "Kfq17UOx_p58"
   },
   "source": [
    "# Asistente de busqueda de tesis y articulos para la universidad nacional\n",
    "\n",
    "Para realizar este asistente hicimos uso de las siguientes herramientas\n",
    "\n",
    "\n",
    "*   LangChain\n",
    "    > framework para crear aplicaciones usando modelos de lenguajes\n",
    "*   Chroma\n",
    "    > Vectorstore para el almacenamiento de embeddings\n",
    "*   GPT4All\n",
    "    > Ecosistema para entrenar y desplegar LLM poderosos y personalizados\n",
    "*   HuggingFace\n",
    "    > Ecosistema de desarrollo de aplicaciones de aprendizaje automatico\n"
   ]
  },
  {
   "cell_type": "markdown",
   "id": "0e25aeda",
   "metadata": {
    "id": "0e25aeda"
   },
   "source": [
    "## Instalación de dependencias"
   ]
  },
  {
   "cell_type": "code",
   "execution_count": 1,
   "id": "ff0e9aac",
   "metadata": {
    "id": "ff0e9aac",
    "outputId": "b2c44e12-583a-4ba1-bb95-925381ac0094"
   },
   "outputs": [
    {
     "name": "stdout",
     "output_type": "stream",
     "text": [
      "\u001b[33mDEPRECATION: Configuring installation scheme with distutils config files is deprecated and will no longer work in the near future. If you are using a Homebrew or Linuxbrew Python, please see discussion at https://github.com/Homebrew/homebrew-core/issues/76621\u001b[0m\u001b[33m\n",
      "\u001b[0m\u001b[33mDEPRECATION: Configuring installation scheme with distutils config files is deprecated and will no longer work in the near future. If you are using a Homebrew or Linuxbrew Python, please see discussion at https://github.com/Homebrew/homebrew-core/issues/76621\u001b[0m\u001b[33m\n",
      "\u001b[0m"
     ]
    }
   ],
   "source": [
    "!pip -q install huggingface chromadb transformers langchain pandas"
   ]
  },
  {
   "cell_type": "markdown",
   "id": "rmI4piHDjeuV",
   "metadata": {
    "id": "rmI4piHDjeuV"
   },
   "source": [
    "## Carga de datos en un Dataframe\n",
    "La información proveniente del proceso de scrapping será almacenada dentro de un dataframe de pandas para su correcto procesamiento"
   ]
  },
  {
   "cell_type": "code",
   "execution_count": 2,
   "id": "4f11e78f",
   "metadata": {
    "id": "4f11e78f",
    "outputId": "3af34fa4-c6f5-4ae3-b35f-e04f145a5959"
   },
   "outputs": [
    {
     "name": "stdout",
     "output_type": "stream",
     "text": [
      "\u001b[33mDEPRECATION: Configuring installation scheme with distutils config files is deprecated and will no longer work in the near future. If you are using a Homebrew or Linuxbrew Python, please see discussion at https://github.com/Homebrew/homebrew-core/issues/76621\u001b[0m\u001b[33m\n",
      "\u001b[0m\u001b[33mDEPRECATION: Configuring installation scheme with distutils config files is deprecated and will no longer work in the near future. If you are using a Homebrew or Linuxbrew Python, please see discussion at https://github.com/Homebrew/homebrew-core/issues/76621\u001b[0m\u001b[33m\n",
      "\u001b[0m"
     ]
    }
   ],
   "source": [
    "#Correr si les falla la celda para usar pandas\n",
    "import sys\n",
    "!{sys.executable} -m pip -q install openpyxl"
   ]
  },
  {
   "cell_type": "code",
   "execution_count": 3,
   "id": "7b7abfe1",
   "metadata": {
    "id": "7b7abfe1",
    "outputId": "c54b850a-b3ab-4150-ce25-c65e2739930f"
   },
   "outputs": [
    {
     "data": {
      "text/html": [
       "<div>\n",
       "<style scoped>\n",
       "    .dataframe tbody tr th:only-of-type {\n",
       "        vertical-align: middle;\n",
       "    }\n",
       "\n",
       "    .dataframe tbody tr th {\n",
       "        vertical-align: top;\n",
       "    }\n",
       "\n",
       "    .dataframe thead th {\n",
       "        text-align: right;\n",
       "    }\n",
       "</style>\n",
       "<table border=\"1\" class=\"dataframe\">\n",
       "  <thead>\n",
       "    <tr style=\"text-align: right;\">\n",
       "      <th></th>\n",
       "      <th>Link</th>\n",
       "      <th>Title</th>\n",
       "      <th>Authors</th>\n",
       "      <th>Locations</th>\n",
       "      <th>context</th>\n",
       "    </tr>\n",
       "  </thead>\n",
       "  <tbody>\n",
       "    <tr>\n",
       "      <th>0</th>\n",
       "      <td>https://repositorio.unal.edu.co/handle/unal/8763</td>\n",
       "      <td>A comparison between expert systems and autono...</td>\n",
       "      <td>Gutiérrez, Sergio Armando;  Branch Bedoya, Jho...</td>\n",
       "      <td>Universidad Nacional de Colombia  Sede Medellí...</td>\n",
       "      <td>Abstratc. In this article, a revision of liter...</td>\n",
       "    </tr>\n",
       "    <tr>\n",
       "      <th>1</th>\n",
       "      <td>https://repositorio.unal.edu.co/handle/unal/61999</td>\n",
       "      <td>A Contribution to Semi-Automatic Segmentation ...</td>\n",
       "      <td>Tamayo Quintero, Juan David</td>\n",
       "      <td>Universidad Nacional de Colombia  Sede Manizal...</td>\n",
       "      <td>The increase the emerging technologies and the...</td>\n",
       "    </tr>\n",
       "    <tr>\n",
       "      <th>2</th>\n",
       "      <td>https://repositorio.unal.edu.co/handle/unal/53687</td>\n",
       "      <td>A criteria based function for reconstructing l...</td>\n",
       "      <td>Ospina Álvarez, Edison Camilo</td>\n",
       "      <td>Universidad Nacional de Colombia  Sede Medellí...</td>\n",
       "      <td>Abstract: Mobile applications equipped with Gl...</td>\n",
       "    </tr>\n",
       "    <tr>\n",
       "      <th>3</th>\n",
       "      <td>https://repositorio.unal.edu.co/handle/unal/52152</td>\n",
       "      <td>A formalization for mapping discourses from bu...</td>\n",
       "      <td>Manrique Losada, Bell</td>\n",
       "      <td>Universidad Nacional de Colombia  Sede Medellí...</td>\n",
       "      <td>Requirements elicitation for software engineer...</td>\n",
       "    </tr>\n",
       "    <tr>\n",
       "      <th>4</th>\n",
       "      <td>https://repositorio.unal.edu.co/handle/unal/59316</td>\n",
       "      <td>A Framework for Evaluating Maintainability and...</td>\n",
       "      <td>Alvarez Eraso, Danny Alejandro</td>\n",
       "      <td>Universidad Nacional de Colombia  Sede Medellí...</td>\n",
       "      <td>Web Application Frameworks (WAF) and Object-Re...</td>\n",
       "    </tr>\n",
       "    <tr>\n",
       "      <th>...</th>\n",
       "      <td>...</td>\n",
       "      <td>...</td>\n",
       "      <td>...</td>\n",
       "      <td>...</td>\n",
       "      <td>...</td>\n",
       "    </tr>\n",
       "    <tr>\n",
       "      <th>821</th>\n",
       "      <td>https://repositorio.unal.edu.co/handle/unal/61994</td>\n",
       "      <td>Validación del programa imagej para cuantifica...</td>\n",
       "      <td>Huerfano Correa, Maximiliano</td>\n",
       "      <td>Universidad Nacional de Colombia  Sede Bogotá ...</td>\n",
       "      <td>Dentro de la práctica de medicina nuclear, la ...</td>\n",
       "    </tr>\n",
       "    <tr>\n",
       "      <th>822</th>\n",
       "      <td>https://repositorio.unal.edu.co/handle/unal/69908</td>\n",
       "      <td>Variable capacity utilization in cycles of ele...</td>\n",
       "      <td>Castañeda Acevedo, Jaime Andrés</td>\n",
       "      <td>Universidad Nacional de Colombia  Sede Medellí...</td>\n",
       "      <td>Este trabajo describe un experimento de labora...</td>\n",
       "    </tr>\n",
       "    <tr>\n",
       "      <th>823</th>\n",
       "      <td>https://repositorio.unal.edu.co/handle/unal/75198</td>\n",
       "      <td>Video and Image Processing based on Kernel Rep...</td>\n",
       "      <td>Molina Giraldo, Santiago</td>\n",
       "      <td>Universidad Nacional de Colombia  Sede Manizal...</td>\n",
       "      <td>En este trabajo se proponen diferentes esquema...</td>\n",
       "    </tr>\n",
       "    <tr>\n",
       "      <th>824</th>\n",
       "      <td>https://repositorio.unal.edu.co/handle/unal/59740</td>\n",
       "      <td>Video explicativo para la enseñanza y aprendiz...</td>\n",
       "      <td>Moreno Rojas, Edwin Mauricio</td>\n",
       "      <td>Universidad Nacional de Colombia  Sede Bogotá ...</td>\n",
       "      <td>El video explicativo que se ha desarrollado co...</td>\n",
       "    </tr>\n",
       "    <tr>\n",
       "      <th>825</th>\n",
       "      <td>https://repositorio.unal.edu.co/handle/unal/59687</td>\n",
       "      <td>Votación y abstención electoral en Bogotá: Aná...</td>\n",
       "      <td>Sierra Rodríguez, Melba Daniela</td>\n",
       "      <td>Universidad Nacional de Colombia  Sede Bogotá ...</td>\n",
       "      <td>El propósito de este trabajo consistió en efec...</td>\n",
       "    </tr>\n",
       "  </tbody>\n",
       "</table>\n",
       "<p>826 rows × 5 columns</p>\n",
       "</div>"
      ],
      "text/plain": [
       "                                                  Link  \\\n",
       "0     https://repositorio.unal.edu.co/handle/unal/8763   \n",
       "1    https://repositorio.unal.edu.co/handle/unal/61999   \n",
       "2    https://repositorio.unal.edu.co/handle/unal/53687   \n",
       "3    https://repositorio.unal.edu.co/handle/unal/52152   \n",
       "4    https://repositorio.unal.edu.co/handle/unal/59316   \n",
       "..                                                 ...   \n",
       "821  https://repositorio.unal.edu.co/handle/unal/61994   \n",
       "822  https://repositorio.unal.edu.co/handle/unal/69908   \n",
       "823  https://repositorio.unal.edu.co/handle/unal/75198   \n",
       "824  https://repositorio.unal.edu.co/handle/unal/59740   \n",
       "825  https://repositorio.unal.edu.co/handle/unal/59687   \n",
       "\n",
       "                                                 Title  \\\n",
       "0    A comparison between expert systems and autono...   \n",
       "1    A Contribution to Semi-Automatic Segmentation ...   \n",
       "2    A criteria based function for reconstructing l...   \n",
       "3    A formalization for mapping discourses from bu...   \n",
       "4    A Framework for Evaluating Maintainability and...   \n",
       "..                                                 ...   \n",
       "821  Validación del programa imagej para cuantifica...   \n",
       "822  Variable capacity utilization in cycles of ele...   \n",
       "823  Video and Image Processing based on Kernel Rep...   \n",
       "824  Video explicativo para la enseñanza y aprendiz...   \n",
       "825  Votación y abstención electoral en Bogotá: Aná...   \n",
       "\n",
       "                                               Authors  \\\n",
       "0    Gutiérrez, Sergio Armando;  Branch Bedoya, Jho...   \n",
       "1                          Tamayo Quintero, Juan David   \n",
       "2                        Ospina Álvarez, Edison Camilo   \n",
       "3                                Manrique Losada, Bell   \n",
       "4                       Alvarez Eraso, Danny Alejandro   \n",
       "..                                                 ...   \n",
       "821                       Huerfano Correa, Maximiliano   \n",
       "822                    Castañeda Acevedo, Jaime Andrés   \n",
       "823                           Molina Giraldo, Santiago   \n",
       "824                       Moreno Rojas, Edwin Mauricio   \n",
       "825                    Sierra Rodríguez, Melba Daniela   \n",
       "\n",
       "                                             Locations  \\\n",
       "0    Universidad Nacional de Colombia  Sede Medellí...   \n",
       "1    Universidad Nacional de Colombia  Sede Manizal...   \n",
       "2    Universidad Nacional de Colombia  Sede Medellí...   \n",
       "3    Universidad Nacional de Colombia  Sede Medellí...   \n",
       "4    Universidad Nacional de Colombia  Sede Medellí...   \n",
       "..                                                 ...   \n",
       "821  Universidad Nacional de Colombia  Sede Bogotá ...   \n",
       "822  Universidad Nacional de Colombia  Sede Medellí...   \n",
       "823  Universidad Nacional de Colombia  Sede Manizal...   \n",
       "824  Universidad Nacional de Colombia  Sede Bogotá ...   \n",
       "825  Universidad Nacional de Colombia  Sede Bogotá ...   \n",
       "\n",
       "                                               context  \n",
       "0    Abstratc. In this article, a revision of liter...  \n",
       "1    The increase the emerging technologies and the...  \n",
       "2    Abstract: Mobile applications equipped with Gl...  \n",
       "3    Requirements elicitation for software engineer...  \n",
       "4    Web Application Frameworks (WAF) and Object-Re...  \n",
       "..                                                 ...  \n",
       "821  Dentro de la práctica de medicina nuclear, la ...  \n",
       "822  Este trabajo describe un experimento de labora...  \n",
       "823  En este trabajo se proponen diferentes esquema...  \n",
       "824  El video explicativo que se ha desarrollado co...  \n",
       "825  El propósito de este trabajo consistió en efec...  \n",
       "\n",
       "[826 rows x 5 columns]"
      ]
     },
     "execution_count": 3,
     "metadata": {},
     "output_type": "execute_result"
    }
   ],
   "source": [
    "import pandas as pd\n",
    "df = pd.read_excel('./datos.xlsx')\n",
    "df"
   ]
  },
  {
   "cell_type": "markdown",
   "id": "uTdnvorijFMv",
   "metadata": {
    "id": "uTdnvorijFMv"
   },
   "source": [
    "## Carga del modelo LLM usando Langchain"
   ]
  },
  {
   "cell_type": "code",
   "execution_count": 4,
   "id": "258f5b50",
   "metadata": {
    "id": "258f5b50"
   },
   "outputs": [],
   "source": [
    "from langchain import PromptTemplate, LLMChain\n",
    "from langchain.llms import GPT4All\n",
    "from langchain.callbacks.streaming_stdout import StreamingStdOutCallbackHandler"
   ]
  },
  {
   "cell_type": "code",
   "execution_count": 5,
   "id": "193d356d",
   "metadata": {
    "id": "193d356d"
   },
   "outputs": [],
   "source": [
    "local_path = './models/ggml-gpt4all-j-v1.3-groovy.bin'  # replace with your desired local file path"
   ]
  },
  {
   "cell_type": "code",
   "execution_count": 11,
   "id": "8dc3b8d5",
   "metadata": {
    "id": "8dc3b8d5",
    "outputId": "3286dad0-0b48-40ba-f06b-2d9d60dfd3cb"
   },
   "outputs": [
    {
     "name": "stdout",
     "output_type": "stream",
     "text": [
      "Found model file at  ./models/ggml-gpt4all-j-v1.3-groovy.bin\n",
      "gptj_model_load: loading model from './models/ggml-gpt4all-j-v1.3-groovy.bin' - please wait ...\n",
      "gptj_model_load: n_vocab = 50400\n",
      "gptj_model_load: n_ctx   = 2048\n",
      "gptj_model_load: n_embd  = 4096\n",
      "gptj_model_load: n_head  = 16\n",
      "gptj_model_load: n_layer = 28\n",
      "gptj_model_load: n_rot   = 64\n",
      "gptj_model_load: f16     = 2\n",
      "gptj_model_load: ggml ctx size = 5401.45 MB\n",
      "gptj_model_load: kv self size  =  896.00 MB\n",
      "gptj_model_load: ................................... done\n",
      "gptj_model_load: model size =  3609.38 MB / num tensors = 285\n"
     ]
    }
   ],
   "source": [
    "# Callbacks support token-wise streaming\n",
    "callbacks = [StreamingStdOutCallbackHandler()]\n",
    "# Verbose is required to pass to the callback manager\n",
    "llm = GPT4All(model=local_path, backend=\"gptj\",callbacks=callbacks, verbose=True)"
   ]
  },
  {
   "cell_type": "markdown",
   "id": "T349Sm89jUYX",
   "metadata": {
    "id": "T349Sm89jUYX"
   },
   "source": [
    "## Importe y splitting de datos\n",
    "Ya que la información se encuentra en un dataframe de pandas vamos a hacer uso de los siguientes Loaders y splitters:\n",
    "\n",
    "*  DataFrameLoader\n",
    "*  RecursiveCharacterTextSplitter"
   ]
  },
  {
   "cell_type": "code",
   "execution_count": 12,
   "id": "031ca350",
   "metadata": {
    "id": "031ca350",
    "outputId": "da2002db-5efb-4635-8c28-a19748a95499"
   },
   "outputs": [],
   "source": [
    "from langchain.document_loaders import DataFrameLoader\n",
    "from langchain.text_splitter import RecursiveCharacterTextSplitter\n",
    "\n",
    "text_splitter = RecursiveCharacterTextSplitter(\n",
    "    chunk_size = 50,\n",
    "    chunk_overlap  = 25,\n",
    "    length_function = len,\n",
    ")\n",
    "\n",
    "loader = DataFrameLoader(df, page_content_column=\"context\")\n",
    "texts = text_splitter.split_documents(loader.load())"
   ]
  },
  {
   "cell_type": "markdown",
   "id": "LGCXZDuJkONW",
   "metadata": {
    "id": "LGCXZDuJkONW"
   },
   "source": [
    "## Generación de Embeddings\n",
    "Para generar los embeddings que serán almacenados vamos a hacer uso del siguiente modelo de la libreria de HuggingFace\n",
    "*  all-MiniLM-L6-v2\n"
   ]
  },
  {
   "cell_type": "code",
   "execution_count": 13,
   "id": "e65740cd",
   "metadata": {
    "id": "e65740cd",
    "outputId": "daa10fae-15e6-4f79-ff7e-e1cbe69cda7a"
   },
   "outputs": [],
   "source": [
    "from langchain.embeddings import HuggingFaceEmbeddings\n",
    "embeddings = HuggingFaceEmbeddings(model_name=\"all-MiniLM-L6-v2\")"
   ]
  },
  {
   "cell_type": "markdown",
   "id": "ixGV8htwk1at",
   "metadata": {
    "id": "ixGV8htwk1at"
   },
   "source": [
    "## Vectorstore con Chroma\n",
    "\n",
    "Para el uso de vectorstore usamos chroma y proporcionamos un path para que se persista la información de los embeddings"
   ]
  },
  {
   "cell_type": "code",
   "execution_count": 14,
   "id": "c24f7158",
   "metadata": {
    "id": "c24f7158"
   },
   "outputs": [],
   "source": [
    "\n",
    "from langchain.vectorstores import Chroma\n",
    "\n",
    "# Supplying a persist_directory will store the embeddings on disk\n",
    "persist_directory = 'db'\n",
    "db = Chroma.from_documents(documents=texts, embedding = embeddings, persist_directory=persist_directory)\n",
    "db.persist()\n",
    "db = None"
   ]
  },
  {
   "cell_type": "markdown",
   "id": "Z9V-l75XlOM5",
   "metadata": {
    "id": "Z9V-l75XlOM5"
   },
   "source": [
    "### Generación de Chain de respuesta\n",
    "\n",
    "usando la db de chroma como retriever podemos vincular el modelo LLM por medio de una cadena para poder hacer preguntas"
   ]
  },
  {
   "cell_type": "code",
   "execution_count": 15,
   "id": "1fc1a4ff",
   "metadata": {
    "id": "1fc1a4ff",
    "outputId": "fc0051e3-0ed3-4fe7-aa49-e9406aac2758"
   },
   "outputs": [],
   "source": [
    "from langchain.chains import RetrievalQA\n",
    "vectordb = Chroma(persist_directory=persist_directory, embedding_function=embeddings)\n",
    "retriever=vectordb.as_retriever(search_type=\"similarity\", search_kwargs={\"k\":5})"
   ]
  },
  {
   "cell_type": "markdown",
   "id": "YIK0aZIZll39",
   "metadata": {
    "id": "YIK0aZIZll39"
   },
   "source": [
    "### Generación de cadena\n",
    "En esta generación de cadena pasamos por parametro que nos retorne los documentos referentes a la pregunta entregada de esta forma podemos vincular articulos o tesis referentes a la pregunta proporcionada"
   ]
  },
  {
   "cell_type": "code",
   "execution_count": 16,
   "id": "c3ac7a9a",
   "metadata": {
    "id": "c3ac7a9a"
   },
   "outputs": [],
   "source": [
    "from langchain.chains.question_answering import load_qa_chain\n",
    "from langchain.chains import RetrievalQA\n",
    "qa = RetrievalQA.from_chain_type(\n",
    "    llm=llm, chain_type=\"stuff\", retriever=retriever, return_source_documents=True)\n",
    "\n"
   ]
  },
  {
   "cell_type": "markdown",
   "id": "A1aVTNZimJ1f",
   "metadata": {
    "id": "A1aVTNZimJ1f"
   },
   "source": [
    "### Query a consultar al modelo"
   ]
  },
  {
   "cell_type": "code",
   "execution_count": 17,
   "id": "6dab7452",
   "metadata": {
    "id": "6dab7452",
    "outputId": "11991101-4d18-4802-c31f-be5e46cb09d2"
   },
   "outputs": [
    {
     "name": "stdout",
     "output_type": "stream",
     "text": [
      " Video Data Analysis (VDA) is a complex field that requires extensive knowledge of digital signal processing, image and computer vision technologies for the purposeful collection or acquisition and manipulation of large amounts of multimedia content over time periods with low latency. To accomplish this goal one must have an understanding in many topics such as data types used by video applications like RGB format vs YUV420P; frame rate conversion from FPS to NTP, H264/MPEG4 etc., audio processing techniques & codecs for converting uncompressed or compressed formats into digital form and MPEG-2 AAC encoder /decoders. To be able also have a basic knowledge of programming languages such as C++, Java, Python that are used in VDA workflows like real time video analysis/processing with OpenCV library, computer vision libraries (e.g., TensorFlow), machine learning frameworks for identifying patterns and making predictions based on the large amount multimedia data inputed over years.\n",
      " Video Data Analysis (VDA) is a complex field that requires extensive knowledge of digital signal processing, image and computer vision technologies for the purposeful collection or acquisition and manipulation of large amounts of multimedia content over time periods with low latency. To accomplish this goal one must have an understanding in many topics such as data types used by video applications like RGB format vs YUV420P; frame rate conversion from FPS to NTP, H264/MPEG4 etc., audio processing techniques & codecs for converting uncompressed or compressed formats into digital form and MPEG-2 AAC encoder /decoders. To be able also have a basic knowledge of programming languages such as C++, Java, Python that are used in VDA workflows like real time video analysis/processing with OpenCV library, computer vision libraries (e.g., TensorFlow), machine learning frameworks for identifying patterns and making predictions based on the large amount multimedia data inputed over years."
     ]
    }
   ],
   "source": [
    "query = \"short article about video data analysis\"\n",
    "result = qa({\"query\": query})"
   ]
  },
  {
   "cell_type": "markdown",
   "id": "FWJyWPjdmENo",
   "metadata": {
    "id": "FWJyWPjdmENo"
   },
   "source": [
    "### Obtención de articulos relacionados en caso de existir"
   ]
  },
  {
   "cell_type": "code",
   "execution_count": 40,
   "id": "233e28b6",
   "metadata": {
    "id": "233e28b6",
    "outputId": "a2c6d3de-bf4e-4818-f730-5f58829d7c5f"
   },
   "outputs": [
    {
     "name": "stdout",
     "output_type": "stream",
     "text": [
      "please check the following articles in order of importance based on your query:\n",
      "link:  https://repositorio.unal.edu.co/handle/unal/56549  Title:  A Kernel framework to support video data analysis\n",
      "link:  https://repositorio.unal.edu.co/handle/unal/21126  Title:  Guía para el desarrollo de aplicaciones interactivas en TDT para Colombia\n"
     ]
    }
   ],
   "source": [
    "\n",
    "def related_docs(result):\n",
    "    count_docs = {}\n",
    "    info_docs = {}\n",
    "    docs = result['source_documents']\n",
    "    if(len(docs) == 0):\n",
    "        print('Sorry there is not articles related with your query')\n",
    "    for i in range(len(docs)):\n",
    "        count_docs[docs[i].metadata['Link']] = 0\n",
    "        info_docs[docs[i].metadata['Link']] = docs[i].metadata['Title']\n",
    "    \n",
    "    for i in range(len(docs)):\n",
    "        count_docs[docs[i].metadata['Link']] = count_docs[docs[i].metadata['Link']] + 1\n",
    "    \n",
    "    print('please check the following articles in order of importance based on your query:')\n",
    "    for doc in sorted(count_docs)[::-1]:\n",
    "        print(\"link: \", doc, \" Title: \", info_docs[doc])\n",
    "\n",
    "related_docs(result)"
   ]
  },
  {
   "cell_type": "code",
   "execution_count": null,
   "id": "94dc68ee",
   "metadata": {
    "id": "94dc68ee"
   },
   "outputs": [],
   "source": []
  }
 ],
 "metadata": {
  "colab": {
   "provenance": []
  },
  "kernelspec": {
   "display_name": "Python 3 (ipykernel)",
   "language": "python",
   "name": "python3"
  },
  "language_info": {
   "codemirror_mode": {
    "name": "ipython",
    "version": 3
   },
   "file_extension": ".py",
   "mimetype": "text/x-python",
   "name": "python",
   "nbconvert_exporter": "python",
   "pygments_lexer": "ipython3",
   "version": "3.9.12"
  }
 },
 "nbformat": 4,
 "nbformat_minor": 5
}
